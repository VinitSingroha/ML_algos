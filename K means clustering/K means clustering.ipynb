{
 "cells": [
  {
   "cell_type": "code",
   "execution_count": 2,
   "id": "1bebb68d",
   "metadata": {},
   "outputs": [],
   "source": [
    "import pandas as pd\n",
    "import numpy as np\n",
    "import matplotlib.pylab as plt \n",
    "%matplotlib inline\n",
    "import seaborn as sns \n",
    "from sklearn.cluster import KMeans\n",
    "from scipy.stats import zscore"
   ]
  },
  {
   "cell_type": "code",
   "execution_count": 3,
   "id": "41ebcddb",
   "metadata": {},
   "outputs": [],
   "source": [
    "tech_data=pd.read_csv(\"technical_support_data-2.csv\")"
   ]
  },
  {
   "cell_type": "code",
   "execution_count": 4,
   "id": "046c12a6",
   "metadata": {},
   "outputs": [
    {
     "data": {
      "text/plain": [
       "(23, 8)"
      ]
     },
     "execution_count": 4,
     "metadata": {},
     "output_type": "execute_result"
    }
   ],
   "source": [
    "tech_data.shape"
   ]
  },
  {
   "cell_type": "code",
   "execution_count": 5,
   "id": "66bec04e",
   "metadata": {},
   "outputs": [
    {
     "data": {
      "text/plain": [
       "count                                  23\n",
       "unique                                 23\n",
       "top       Temperature control not working\n",
       "freq                                    1\n",
       "Name: PROBLEM_TYPE, dtype: object"
      ]
     },
     "execution_count": 5,
     "metadata": {},
     "output_type": "execute_result"
    }
   ],
   "source": [
    "tech_data[\"PROBLEM_TYPE\"]"
   ]
  },
  {
   "cell_type": "code",
   "execution_count": 14,
   "id": "2a08fbfd",
   "metadata": {},
   "outputs": [],
   "source": [
    "techSupAt=tech_data.iloc[:,1:]\n",
    "scaledAt=techSupAt.apply(zscore)"
   ]
  },
  {
   "cell_type": "markdown",
   "id": "7474aa37",
   "metadata": {},
   "source": [
    "## Elbow method"
   ]
  },
  {
   "cell_type": "code",
   "execution_count": 39,
   "id": "96e8f062",
   "metadata": {
    "scrolled": true
   },
   "outputs": [
    {
     "name": "stderr",
     "output_type": "stream",
     "text": [
      "C:\\Users\\vinee\\anaconda3\\lib\\site-packages\\sklearn\\cluster\\_kmeans.py:1036: UserWarning: KMeans is known to have a memory leak on Windows with MKL, when there are less chunks than available threads. You can avoid it by setting the environment variable OMP_NUM_THREADS=1.\n",
      "  warnings.warn(\n"
     ]
    }
   ],
   "source": [
    "from scipy.spatial.distance import cdist\n",
    "clusters=range(1,10)\n",
    "meanDistortions=[]\n",
    "\n",
    "for k in clusters:\n",
    "    model=KMeans(n_clusters=k)\n",
    "    model.fit(scaledAt)\n",
    "    prediction=model.predict(scaledAt)\n",
    "    meanDistortions.append(sum(np.min(cdist(scaledAt ,model.cluster_centers_,\"euclidean\"),axis=1))/scaledAt.shape[0])"
   ]
  },
  {
   "cell_type": "code",
   "execution_count": 40,
   "id": "e3db028a",
   "metadata": {
    "scrolled": true
   },
   "outputs": [
    {
     "data": {
      "text/plain": [
       "[2.5132186215720433,\n",
       " 2.011069807948648,\n",
       " 1.633958126099869,\n",
       " 1.4661262666709103,\n",
       " 1.219279020313038,\n",
       " 1.0620842732423292,\n",
       " 0.9815040637871222,\n",
       " 0.8636657490946983,\n",
       " 0.7832100384150046]"
      ]
     },
     "execution_count": 40,
     "metadata": {},
     "output_type": "execute_result"
    }
   ],
   "source": [
    "meanDistortions"
   ]
  },
  {
   "cell_type": "code",
   "execution_count": 41,
   "id": "3763119b",
   "metadata": {},
   "outputs": [
    {
     "data": {
      "text/plain": [
       "Text(0.5, 1.0, 'Elbow MEthod')"
      ]
     },
     "execution_count": 41,
     "metadata": {},
     "output_type": "execute_result"
    },
    {
     "data": {
      "image/png": "[encoded data removed]",
      "text/plain": [
       "<Figure size 432x288 with 1 Axes>"
      ]
     },
     "metadata": {
      "needs_background": "light"
     },
     "output_type": "display_data"
    }
   ],
   "source": [
    "plt.plot(clusters,meanDistortions, \"bx-\")\n",
    "plt.xlabel(\"k\")\n",
    "plt.ylabel(\"Mean Distortions\")\n",
    "plt.title(\"Elbow MEthod\")"
   ]
  },
  {
   "cell_type": "code",
   "execution_count": 42,
   "id": "ebdc1f5a",
   "metadata": {},
   "outputs": [],
   "source": [
    "# As the elbow looks to be lying between 3 and 5 we test the values \n",
    "# of k from 3 to 5 manually"
   ]
  },
  {
   "cell_type": "code",
   "execution_count": null,
   "id": "c2a60d55",
   "metadata": {},
   "outputs": [],
   "source": []
  }
 ],
 "metadata": {
  "kernelspec": {
   "display_name": "Python 3 (ipykernel)",
   "language": "python",
   "name": "python3"
  },
  "language_info": {
   "codemirror_mode": {
    "name": "ipython",
    "version": 3
   },
   "file_extension": ".py",
   "mimetype": "text/x-python",
   "name": "python",
   "nbconvert_exporter": "python",
   "pygments_lexer": "ipython3",
   "version": "3.9.12"
  }
 },
 "nbformat": 4,
 "nbformat_minor": 5
}
