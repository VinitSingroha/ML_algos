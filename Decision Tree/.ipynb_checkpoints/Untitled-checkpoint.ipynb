{
 "cells": [
  {
   "cell_type": "markdown",
   "metadata": {},
   "source": [
    "## Import some useful libraries"
   ]
  },
  {
   "cell_type": "code",
   "execution_count": 1,
   "metadata": {},
   "outputs": [],
   "source": [
    "import pandas as pd\n",
    "import numpy as np\n",
    "import matplotlib.pyplot as plt\n",
    "import seaborn as sns"
   ]
  },
  {
   "cell_type": "markdown",
   "metadata": {},
   "source": [
    "## Load dataset"
   ]
  },
  {
   "cell_type": "code",
   "execution_count": 2,
   "metadata": {},
   "outputs": [],
   "source": [
    "df = pd.read_csv(\"athlete_event_dataset.csv\")"
   ]
  },
  {
   "cell_type": "code",
   "execution_count": 3,
   "metadata": {},
   "outputs": [
    {
     "data": {
      "text/html": [
       "<div>\n",
       "<style scoped>\n",
       "    .dataframe tbody tr th:only-of-type {\n",
       "        vertical-align: middle;\n",
       "    }\n",
       "\n",
       "    .dataframe tbody tr th {\n",
       "        vertical-align: top;\n",
       "    }\n",
       "\n",
       "    .dataframe thead th {\n",
       "        text-align: right;\n",
       "    }\n",
       "</style>\n",
       "<table border=\"1\" class=\"dataframe\">\n",
       "  <thead>\n",
       "    <tr style=\"text-align: right;\">\n",
       "      <th></th>\n",
       "      <th>Name</th>\n",
       "      <th>Sex</th>\n",
       "      <th>Age</th>\n",
       "      <th>Height</th>\n",
       "      <th>Weight</th>\n",
       "      <th>Team</th>\n",
       "      <th>NOC</th>\n",
       "      <th>Games</th>\n",
       "      <th>Year</th>\n",
       "      <th>Season</th>\n",
       "      <th>City</th>\n",
       "      <th>Sport</th>\n",
       "      <th>Event</th>\n",
       "      <th>Medal</th>\n",
       "    </tr>\n",
       "  </thead>\n",
       "  <tbody>\n",
       "    <tr>\n",
       "      <th>0</th>\n",
       "      <td>Juhamatti Tapio Aaltonen</td>\n",
       "      <td>M</td>\n",
       "      <td>28</td>\n",
       "      <td>184</td>\n",
       "      <td>85.0</td>\n",
       "      <td>Finland</td>\n",
       "      <td>FIN</td>\n",
       "      <td>2014 Winter</td>\n",
       "      <td>2014</td>\n",
       "      <td>Winter</td>\n",
       "      <td>Sochi</td>\n",
       "      <td>Ice Hockey</td>\n",
       "      <td>Ice Hockey Men's Ice Hockey</td>\n",
       "      <td>Bronze</td>\n",
       "    </tr>\n",
       "    <tr>\n",
       "      <th>1</th>\n",
       "      <td>Paavo Johannes Aaltonen</td>\n",
       "      <td>M</td>\n",
       "      <td>28</td>\n",
       "      <td>175</td>\n",
       "      <td>64.0</td>\n",
       "      <td>Finland</td>\n",
       "      <td>FIN</td>\n",
       "      <td>1948 Summer</td>\n",
       "      <td>1948</td>\n",
       "      <td>Summer</td>\n",
       "      <td>London</td>\n",
       "      <td>Gymnastics</td>\n",
       "      <td>Gymnastics Men's Individual All-Around</td>\n",
       "      <td>Bronze</td>\n",
       "    </tr>\n",
       "    <tr>\n",
       "      <th>2</th>\n",
       "      <td>Paavo Johannes Aaltonen</td>\n",
       "      <td>M</td>\n",
       "      <td>28</td>\n",
       "      <td>175</td>\n",
       "      <td>64.0</td>\n",
       "      <td>Finland</td>\n",
       "      <td>FIN</td>\n",
       "      <td>1948 Summer</td>\n",
       "      <td>1948</td>\n",
       "      <td>Summer</td>\n",
       "      <td>London</td>\n",
       "      <td>Gymnastics</td>\n",
       "      <td>Gymnastics Men's Team All-Around</td>\n",
       "      <td>Gold</td>\n",
       "    </tr>\n",
       "    <tr>\n",
       "      <th>3</th>\n",
       "      <td>Paavo Johannes Aaltonen</td>\n",
       "      <td>M</td>\n",
       "      <td>28</td>\n",
       "      <td>175</td>\n",
       "      <td>64.0</td>\n",
       "      <td>Finland</td>\n",
       "      <td>FIN</td>\n",
       "      <td>1948 Summer</td>\n",
       "      <td>1948</td>\n",
       "      <td>Summer</td>\n",
       "      <td>London</td>\n",
       "      <td>Gymnastics</td>\n",
       "      <td>Gymnastics Men's Horse Vault</td>\n",
       "      <td>Gold</td>\n",
       "    </tr>\n",
       "    <tr>\n",
       "      <th>4</th>\n",
       "      <td>Paavo Johannes Aaltonen</td>\n",
       "      <td>M</td>\n",
       "      <td>28</td>\n",
       "      <td>175</td>\n",
       "      <td>64.0</td>\n",
       "      <td>Finland</td>\n",
       "      <td>FIN</td>\n",
       "      <td>1948 Summer</td>\n",
       "      <td>1948</td>\n",
       "      <td>Summer</td>\n",
       "      <td>London</td>\n",
       "      <td>Gymnastics</td>\n",
       "      <td>Gymnastics Men's Pommelled Horse</td>\n",
       "      <td>Gold</td>\n",
       "    </tr>\n",
       "  </tbody>\n",
       "</table>\n",
       "</div>"
      ],
      "text/plain": [
       "                       Name Sex  Age  Height  Weight     Team  NOC  \\\n",
       "0  Juhamatti Tapio Aaltonen   M   28     184    85.0  Finland  FIN   \n",
       "1   Paavo Johannes Aaltonen   M   28     175    64.0  Finland  FIN   \n",
       "2   Paavo Johannes Aaltonen   M   28     175    64.0  Finland  FIN   \n",
       "3   Paavo Johannes Aaltonen   M   28     175    64.0  Finland  FIN   \n",
       "4   Paavo Johannes Aaltonen   M   28     175    64.0  Finland  FIN   \n",
       "\n",
       "         Games  Year  Season    City       Sport  \\\n",
       "0  2014 Winter  2014  Winter   Sochi  Ice Hockey   \n",
       "1  1948 Summer  1948  Summer  London  Gymnastics   \n",
       "2  1948 Summer  1948  Summer  London  Gymnastics   \n",
       "3  1948 Summer  1948  Summer  London  Gymnastics   \n",
       "4  1948 Summer  1948  Summer  London  Gymnastics   \n",
       "\n",
       "                                    Event   Medal  \n",
       "0             Ice Hockey Men's Ice Hockey  Bronze  \n",
       "1  Gymnastics Men's Individual All-Around  Bronze  \n",
       "2        Gymnastics Men's Team All-Around    Gold  \n",
       "3            Gymnastics Men's Horse Vault    Gold  \n",
       "4        Gymnastics Men's Pommelled Horse    Gold  "
      ]
     },
     "execution_count": 3,
     "metadata": {},
     "output_type": "execute_result"
    }
   ],
   "source": [
    "# display top 5 observations \n",
    "df.head()"
   ]
  },
  {
   "cell_type": "code",
   "execution_count": 4,
   "metadata": {},
   "outputs": [
    {
     "data": {
      "text/html": [
       "<div>\n",
       "<style scoped>\n",
       "    .dataframe tbody tr th:only-of-type {\n",
       "        vertical-align: middle;\n",
       "    }\n",
       "\n",
       "    .dataframe tbody tr th {\n",
       "        vertical-align: top;\n",
       "    }\n",
       "\n",
       "    .dataframe thead th {\n",
       "        text-align: right;\n",
       "    }\n",
       "</style>\n",
       "<table border=\"1\" class=\"dataframe\">\n",
       "  <thead>\n",
       "    <tr style=\"text-align: right;\">\n",
       "      <th></th>\n",
       "      <th>Name</th>\n",
       "      <th>Sex</th>\n",
       "      <th>Age</th>\n",
       "      <th>Height</th>\n",
       "      <th>Weight</th>\n",
       "      <th>Team</th>\n",
       "      <th>NOC</th>\n",
       "      <th>Games</th>\n",
       "      <th>Year</th>\n",
       "      <th>Season</th>\n",
       "      <th>City</th>\n",
       "      <th>Sport</th>\n",
       "      <th>Event</th>\n",
       "      <th>Medal</th>\n",
       "    </tr>\n",
       "  </thead>\n",
       "  <tbody>\n",
       "    <tr>\n",
       "      <th>30176</th>\n",
       "      <td>Galina Ivanovna Zybina (-Fyodorova)</td>\n",
       "      <td>F</td>\n",
       "      <td>25</td>\n",
       "      <td>168</td>\n",
       "      <td>80.0</td>\n",
       "      <td>Soviet Union</td>\n",
       "      <td>URS</td>\n",
       "      <td>1956 Summer</td>\n",
       "      <td>1956</td>\n",
       "      <td>Summer</td>\n",
       "      <td>Melbourne</td>\n",
       "      <td>Athletics</td>\n",
       "      <td>Athletics Women's Shot Put</td>\n",
       "      <td>Silver</td>\n",
       "    </tr>\n",
       "    <tr>\n",
       "      <th>30177</th>\n",
       "      <td>Galina Ivanovna Zybina (-Fyodorova)</td>\n",
       "      <td>F</td>\n",
       "      <td>33</td>\n",
       "      <td>168</td>\n",
       "      <td>80.0</td>\n",
       "      <td>Soviet Union</td>\n",
       "      <td>URS</td>\n",
       "      <td>1964 Summer</td>\n",
       "      <td>1964</td>\n",
       "      <td>Summer</td>\n",
       "      <td>Tokyo</td>\n",
       "      <td>Athletics</td>\n",
       "      <td>Athletics Women's Shot Put</td>\n",
       "      <td>Bronze</td>\n",
       "    </tr>\n",
       "    <tr>\n",
       "      <th>30178</th>\n",
       "      <td>Bogusaw Zych</td>\n",
       "      <td>M</td>\n",
       "      <td>28</td>\n",
       "      <td>182</td>\n",
       "      <td>82.0</td>\n",
       "      <td>Poland</td>\n",
       "      <td>POL</td>\n",
       "      <td>1980 Summer</td>\n",
       "      <td>1980</td>\n",
       "      <td>Summer</td>\n",
       "      <td>Moskva</td>\n",
       "      <td>Fencing</td>\n",
       "      <td>Fencing Men's Foil, Team</td>\n",
       "      <td>Bronze</td>\n",
       "    </tr>\n",
       "    <tr>\n",
       "      <th>30179</th>\n",
       "      <td>Olesya Nikolayevna Zykina</td>\n",
       "      <td>F</td>\n",
       "      <td>19</td>\n",
       "      <td>171</td>\n",
       "      <td>64.0</td>\n",
       "      <td>Russia</td>\n",
       "      <td>RUS</td>\n",
       "      <td>2000 Summer</td>\n",
       "      <td>2000</td>\n",
       "      <td>Summer</td>\n",
       "      <td>Sydney</td>\n",
       "      <td>Athletics</td>\n",
       "      <td>Athletics Women's 4 x 400 metres Relay</td>\n",
       "      <td>Bronze</td>\n",
       "    </tr>\n",
       "    <tr>\n",
       "      <th>30180</th>\n",
       "      <td>Olesya Nikolayevna Zykina</td>\n",
       "      <td>F</td>\n",
       "      <td>23</td>\n",
       "      <td>171</td>\n",
       "      <td>64.0</td>\n",
       "      <td>Russia</td>\n",
       "      <td>RUS</td>\n",
       "      <td>2004 Summer</td>\n",
       "      <td>2004</td>\n",
       "      <td>Summer</td>\n",
       "      <td>Athina</td>\n",
       "      <td>Athletics</td>\n",
       "      <td>Athletics Women's 4 x 400 metres Relay</td>\n",
       "      <td>Silver</td>\n",
       "    </tr>\n",
       "  </tbody>\n",
       "</table>\n",
       "</div>"
      ],
      "text/plain": [
       "                                      Name Sex  Age  Height  Weight  \\\n",
       "30176  Galina Ivanovna Zybina (-Fyodorova)   F   25     168    80.0   \n",
       "30177  Galina Ivanovna Zybina (-Fyodorova)   F   33     168    80.0   \n",
       "30178                         Bogusaw Zych   M   28     182    82.0   \n",
       "30179            Olesya Nikolayevna Zykina   F   19     171    64.0   \n",
       "30180            Olesya Nikolayevna Zykina   F   23     171    64.0   \n",
       "\n",
       "               Team  NOC        Games  Year  Season       City      Sport  \\\n",
       "30176  Soviet Union  URS  1956 Summer  1956  Summer  Melbourne  Athletics   \n",
       "30177  Soviet Union  URS  1964 Summer  1964  Summer      Tokyo  Athletics   \n",
       "30178        Poland  POL  1980 Summer  1980  Summer     Moskva    Fencing   \n",
       "30179        Russia  RUS  2000 Summer  2000  Summer     Sydney  Athletics   \n",
       "30180        Russia  RUS  2004 Summer  2004  Summer     Athina  Athletics   \n",
       "\n",
       "                                        Event   Medal  \n",
       "30176              Athletics Women's Shot Put  Silver  \n",
       "30177              Athletics Women's Shot Put  Bronze  \n",
       "30178                Fencing Men's Foil, Team  Bronze  \n",
       "30179  Athletics Women's 4 x 400 metres Relay  Bronze  \n",
       "30180  Athletics Women's 4 x 400 metres Relay  Silver  "
      ]
     },
     "execution_count": 4,
     "metadata": {},
     "output_type": "execute_result"
    }
   ],
   "source": [
    "# display bottom 5 rows\n",
    "df.tail()"
   ]
  },
  {
   "cell_type": "markdown",
   "metadata": {},
   "source": [
    "## Data profilling"
   ]
  },
  {
   "cell_type": "code",
   "execution_count": 5,
   "metadata": {},
   "outputs": [
    {
     "data": {
      "text/plain": [
       "(30181, 14)"
      ]
     },
     "execution_count": 5,
     "metadata": {},
     "output_type": "execute_result"
    }
   ],
   "source": [
    "## size of dataset\n",
    "df.shape"
   ]
  },
  {
   "cell_type": "markdown",
   "metadata": {},
   "source": [
    "There are 14 numbers of column and 30181 numbers of rows in our dataset"
   ]
  },
  {
   "cell_type": "code",
   "execution_count": 6,
   "metadata": {},
   "outputs": [
    {
     "name": "stdout",
     "output_type": "stream",
     "text": [
      "<class 'pandas.core.frame.DataFrame'>\n",
      "RangeIndex: 30181 entries, 0 to 30180\n",
      "Data columns (total 14 columns):\n",
      " #   Column  Non-Null Count  Dtype  \n",
      "---  ------  --------------  -----  \n",
      " 0   Name    30181 non-null  object \n",
      " 1   Sex     30181 non-null  object \n",
      " 2   Age     30181 non-null  int64  \n",
      " 3   Height  30181 non-null  int64  \n",
      " 4   Weight  30181 non-null  float64\n",
      " 5   Team    30181 non-null  object \n",
      " 6   NOC     30181 non-null  object \n",
      " 7   Games   30181 non-null  object \n",
      " 8   Year    30181 non-null  int64  \n",
      " 9   Season  30181 non-null  object \n",
      " 10  City    30181 non-null  object \n",
      " 11  Sport   30181 non-null  object \n",
      " 12  Event   30181 non-null  object \n",
      " 13  Medal   30181 non-null  object \n",
      "dtypes: float64(1), int64(3), object(10)\n",
      "memory usage: 3.2+ MB\n"
     ]
    }
   ],
   "source": [
    "## datatypes of columns\n",
    "df.info()"
   ]
  },
  {
   "cell_type": "code",
   "execution_count": 7,
   "metadata": {},
   "outputs": [
    {
     "data": {
      "text/plain": [
       "Name      0.0\n",
       "Sex       0.0\n",
       "Age       0.0\n",
       "Height    0.0\n",
       "Weight    0.0\n",
       "Team      0.0\n",
       "NOC       0.0\n",
       "Games     0.0\n",
       "Year      0.0\n",
       "Season    0.0\n",
       "City      0.0\n",
       "Sport     0.0\n",
       "Event     0.0\n",
       "Medal     0.0\n",
       "dtype: float64"
      ]
     },
     "execution_count": 7,
     "metadata": {},
     "output_type": "execute_result"
    }
   ],
   "source": [
    "## check nan value in dataset\n",
    "df.isna().mean()"
   ]
  },
  {
   "cell_type": "code",
   "execution_count": 8,
   "metadata": {},
   "outputs": [
    {
     "data": {
      "text/plain": [
       "array(['Bronze', 'Gold', 'Silver'], dtype=object)"
      ]
     },
     "execution_count": 8,
     "metadata": {},
     "output_type": "execute_result"
    }
   ],
   "source": [
    "df['Medal'].unique()"
   ]
  },
  {
   "cell_type": "code",
   "execution_count": 11,
   "metadata": {},
   "outputs": [
    {
     "data": {
      "text/plain": [
       "10"
      ]
     },
     "execution_count": 11,
     "metadata": {},
     "output_type": "execute_result"
    }
   ],
   "source": [
    "### Number of categorical columns\n",
    "categorical_feature = [column for column in df.columns if df[column].dtypes == object]\n",
    "len(categorical_feature)"
   ]
  },
  {
   "cell_type": "code",
   "execution_count": 12,
   "metadata": {},
   "outputs": [
    {
     "data": {
      "text/plain": [
       "4"
      ]
     },
     "execution_count": 12,
     "metadata": {},
     "output_type": "execute_result"
    }
   ],
   "source": [
    "## Number of Numerical columns\n",
    "numerical_feature = [col for col in df.columns if df[col].dtypes != object]\n",
    "len(numerical_feature)"
   ]
  },
  {
   "cell_type": "code",
   "execution_count": 13,
   "metadata": {},
   "outputs": [
    {
     "name": "stdout",
     "output_type": "stream",
     "text": [
      "Number of Duplicates row :  0\n"
     ]
    }
   ],
   "source": [
    "### Number of duplicate rows\n",
    "duplicate_row = df[df.duplicated()]\n",
    "print(\"Number of Duplicates row : \",duplicate_row.shape[0])"
   ]
  },
  {
   "cell_type": "markdown",
   "metadata": {},
   "source": [
    "## Statistical Information"
   ]
  },
  {
   "cell_type": "code",
   "execution_count": 14,
   "metadata": {},
   "outputs": [
    {
     "data": {
      "text/html": [
       "<div>\n",
       "<style scoped>\n",
       "    .dataframe tbody tr th:only-of-type {\n",
       "        vertical-align: middle;\n",
       "    }\n",
       "\n",
       "    .dataframe tbody tr th {\n",
       "        vertical-align: top;\n",
       "    }\n",
       "\n",
       "    .dataframe thead th {\n",
       "        text-align: right;\n",
       "    }\n",
       "</style>\n",
       "<table border=\"1\" class=\"dataframe\">\n",
       "  <thead>\n",
       "    <tr style=\"text-align: right;\">\n",
       "      <th></th>\n",
       "      <th>Age</th>\n",
       "      <th>Height</th>\n",
       "      <th>Weight</th>\n",
       "      <th>Year</th>\n",
       "    </tr>\n",
       "  </thead>\n",
       "  <tbody>\n",
       "    <tr>\n",
       "      <th>count</th>\n",
       "      <td>30181.000000</td>\n",
       "      <td>30181.000000</td>\n",
       "      <td>30181.000000</td>\n",
       "      <td>30181.000000</td>\n",
       "    </tr>\n",
       "    <tr>\n",
       "      <th>mean</th>\n",
       "      <td>25.429012</td>\n",
       "      <td>177.642358</td>\n",
       "      <td>73.753554</td>\n",
       "      <td>1988.005964</td>\n",
       "    </tr>\n",
       "    <tr>\n",
       "      <th>std</th>\n",
       "      <td>5.049684</td>\n",
       "      <td>10.924188</td>\n",
       "      <td>15.004992</td>\n",
       "      <td>22.718451</td>\n",
       "    </tr>\n",
       "    <tr>\n",
       "      <th>min</th>\n",
       "      <td>13.000000</td>\n",
       "      <td>136.000000</td>\n",
       "      <td>28.000000</td>\n",
       "      <td>1896.000000</td>\n",
       "    </tr>\n",
       "    <tr>\n",
       "      <th>25%</th>\n",
       "      <td>22.000000</td>\n",
       "      <td>170.000000</td>\n",
       "      <td>63.000000</td>\n",
       "      <td>1976.000000</td>\n",
       "    </tr>\n",
       "    <tr>\n",
       "      <th>50%</th>\n",
       "      <td>25.000000</td>\n",
       "      <td>178.000000</td>\n",
       "      <td>73.000000</td>\n",
       "      <td>1992.000000</td>\n",
       "    </tr>\n",
       "    <tr>\n",
       "      <th>75%</th>\n",
       "      <td>28.000000</td>\n",
       "      <td>185.000000</td>\n",
       "      <td>83.000000</td>\n",
       "      <td>2006.000000</td>\n",
       "    </tr>\n",
       "    <tr>\n",
       "      <th>max</th>\n",
       "      <td>66.000000</td>\n",
       "      <td>223.000000</td>\n",
       "      <td>182.000000</td>\n",
       "      <td>2016.000000</td>\n",
       "    </tr>\n",
       "  </tbody>\n",
       "</table>\n",
       "</div>"
      ],
      "text/plain": [
       "                Age        Height        Weight          Year\n",
       "count  30181.000000  30181.000000  30181.000000  30181.000000\n",
       "mean      25.429012    177.642358     73.753554   1988.005964\n",
       "std        5.049684     10.924188     15.004992     22.718451\n",
       "min       13.000000    136.000000     28.000000   1896.000000\n",
       "25%       22.000000    170.000000     63.000000   1976.000000\n",
       "50%       25.000000    178.000000     73.000000   1992.000000\n",
       "75%       28.000000    185.000000     83.000000   2006.000000\n",
       "max       66.000000    223.000000    182.000000   2016.000000"
      ]
     },
     "execution_count": 14,
     "metadata": {},
     "output_type": "execute_result"
    }
   ],
   "source": [
    "df.describe()"
   ]
  },
  {
   "cell_type": "code",
   "execution_count": 17,
   "metadata": {},
   "outputs": [
    {
     "data": {
      "text/html": [
       "<div>\n",
       "<style scoped>\n",
       "    .dataframe tbody tr th:only-of-type {\n",
       "        vertical-align: middle;\n",
       "    }\n",
       "\n",
       "    .dataframe tbody tr th {\n",
       "        vertical-align: top;\n",
       "    }\n",
       "\n",
       "    .dataframe thead th {\n",
       "        text-align: right;\n",
       "    }\n",
       "</style>\n",
       "<table border=\"1\" class=\"dataframe\">\n",
       "  <thead>\n",
       "    <tr style=\"text-align: right;\">\n",
       "      <th></th>\n",
       "      <th>Name</th>\n",
       "      <th>Sex</th>\n",
       "      <th>Team</th>\n",
       "      <th>NOC</th>\n",
       "      <th>Games</th>\n",
       "      <th>Season</th>\n",
       "      <th>City</th>\n",
       "      <th>Sport</th>\n",
       "      <th>Event</th>\n",
       "      <th>Medal</th>\n",
       "    </tr>\n",
       "  </thead>\n",
       "  <tbody>\n",
       "    <tr>\n",
       "      <th>count</th>\n",
       "      <td>30181</td>\n",
       "      <td>30181</td>\n",
       "      <td>30181</td>\n",
       "      <td>30181</td>\n",
       "      <td>30181</td>\n",
       "      <td>30181</td>\n",
       "      <td>30181</td>\n",
       "      <td>30181</td>\n",
       "      <td>30181</td>\n",
       "      <td>30181</td>\n",
       "    </tr>\n",
       "    <tr>\n",
       "      <th>unique</th>\n",
       "      <td>20732</td>\n",
       "      <td>2</td>\n",
       "      <td>263</td>\n",
       "      <td>143</td>\n",
       "      <td>51</td>\n",
       "      <td>2</td>\n",
       "      <td>42</td>\n",
       "      <td>55</td>\n",
       "      <td>562</td>\n",
       "      <td>3</td>\n",
       "    </tr>\n",
       "    <tr>\n",
       "      <th>top</th>\n",
       "      <td>Michael Fred Phelps, II</td>\n",
       "      <td>M</td>\n",
       "      <td>United States</td>\n",
       "      <td>USA</td>\n",
       "      <td>2008 Summer</td>\n",
       "      <td>Summer</td>\n",
       "      <td>London</td>\n",
       "      <td>Athletics</td>\n",
       "      <td>Ice Hockey Men's Ice Hockey</td>\n",
       "      <td>Gold</td>\n",
       "    </tr>\n",
       "    <tr>\n",
       "      <th>freq</th>\n",
       "      <td>28</td>\n",
       "      <td>19831</td>\n",
       "      <td>4273</td>\n",
       "      <td>4383</td>\n",
       "      <td>2035</td>\n",
       "      <td>25341</td>\n",
       "      <td>2231</td>\n",
       "      <td>3648</td>\n",
       "      <td>1001</td>\n",
       "      <td>10167</td>\n",
       "    </tr>\n",
       "  </tbody>\n",
       "</table>\n",
       "</div>"
      ],
      "text/plain": [
       "                           Name    Sex           Team    NOC        Games  \\\n",
       "count                     30181  30181          30181  30181        30181   \n",
       "unique                    20732      2            263    143           51   \n",
       "top     Michael Fred Phelps, II      M  United States    USA  2008 Summer   \n",
       "freq                         28  19831           4273   4383         2035   \n",
       "\n",
       "        Season    City      Sport                        Event  Medal  \n",
       "count    30181   30181      30181                        30181  30181  \n",
       "unique       2      42         55                          562      3  \n",
       "top     Summer  London  Athletics  Ice Hockey Men's Ice Hockey   Gold  \n",
       "freq     25341    2231       3648                         1001  10167  "
      ]
     },
     "execution_count": 17,
     "metadata": {},
     "output_type": "execute_result"
    }
   ],
   "source": [
    "df.describe(include = ['O']) ## for categorical columns"
   ]
  },
  {
   "cell_type": "markdown",
   "metadata": {},
   "source": [
    "## Handling Categorical features"
   ]
  },
  {
   "cell_type": "code",
   "execution_count": 24,
   "metadata": {},
   "outputs": [],
   "source": [
    "## Number of unique counts for categorical features\n",
    "def unique(df , column):\n",
    "    print(\"Number of unique counts in \",column,\" : \",df[column].nunique(), \" out of rows : \",df.shape[0])"
   ]
  },
  {
   "cell_type": "code",
   "execution_count": 25,
   "metadata": {
    "scrolled": false
   },
   "outputs": [
    {
     "name": "stdout",
     "output_type": "stream",
     "text": [
      "Number of unique counts in  Name  :  20732  out of rows :  30181\n",
      "Number of unique counts in  Sex  :  2  out of rows :  30181\n",
      "Number of unique counts in  Team  :  263  out of rows :  30181\n",
      "Number of unique counts in  NOC  :  143  out of rows :  30181\n",
      "Number of unique counts in  Games  :  51  out of rows :  30181\n",
      "Number of unique counts in  Season  :  2  out of rows :  30181\n",
      "Number of unique counts in  City  :  42  out of rows :  30181\n",
      "Number of unique counts in  Sport  :  55  out of rows :  30181\n",
      "Number of unique counts in  Event  :  562  out of rows :  30181\n",
      "Number of unique counts in  Medal  :  3  out of rows :  30181\n"
     ]
    }
   ],
   "source": [
    "for col in categorical_feature :\n",
    "    unique(df,col)"
   ]
  },
  {
   "cell_type": "code",
   "execution_count": 26,
   "metadata": {},
   "outputs": [
    {
     "data": {
      "text/plain": [
       "0        0\n",
       "1        0\n",
       "2        0\n",
       "3        0\n",
       "4        0\n",
       "        ..\n",
       "30176    1\n",
       "30177    1\n",
       "30178    0\n",
       "30179    1\n",
       "30180    1\n",
       "Name: Sex, Length: 30181, dtype: int32"
      ]
     },
     "execution_count": 26,
     "metadata": {},
     "output_type": "execute_result"
    }
   ],
   "source": [
    "## perform One hot encoding for 'Sex' feature\n",
    "df['Sex'].replace({'M':0 , 'F':1}, inplace=True)\n",
    "df['Sex'].astype(int)"
   ]
  },
  {
   "cell_type": "code",
   "execution_count": 34,
   "metadata": {},
   "outputs": [
    {
     "data": {
      "text/plain": [
       "array(['Winter', 'Summer'], dtype=object)"
      ]
     },
     "execution_count": 34,
     "metadata": {},
     "output_type": "execute_result"
    }
   ],
   "source": [
    "df['Season'].unique()"
   ]
  },
  {
   "cell_type": "code",
   "execution_count": null,
   "metadata": {},
   "outputs": [],
   "source": [
    "## perform One hot encoding for 'Season' feature\n",
    "df['Season'].replace({'M':0 , 'F':1}, inplace=True)\n",
    "df['Season'].astype(int)"
   ]
  },
  {
   "cell_type": "code",
   "execution_count": null,
   "metadata": {},
   "outputs": [],
   "source": []
  },
  {
   "cell_type": "code",
   "execution_count": null,
   "metadata": {},
   "outputs": [],
   "source": []
  }
 ],
 "metadata": {
  "kernelspec": {
   "display_name": "Python 3",
   "language": "python",
   "name": "python3"
  },
  "language_info": {
   "codemirror_mode": {
    "name": "ipython",
    "version": 3
   },
   "file_extension": ".py",
   "mimetype": "text/x-python",
   "name": "python",
   "nbconvert_exporter": "python",
   "pygments_lexer": "ipython3",
   "version": "3.8.3"
  }
 },
 "nbformat": 4,
 "nbformat_minor": 4
}
