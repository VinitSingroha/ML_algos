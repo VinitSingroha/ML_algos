{
 "cells": [
  {
   "cell_type": "markdown",
   "metadata": {},
   "source": [
    "# Decision Tree Classifier Implementation in Python"
   ]
  },
  {
   "cell_type": "markdown",
   "metadata": {},
   "source": [
    "#### Importing the required modules"
   ]
  },
  {
   "cell_type": "code",
   "execution_count": 1,
   "metadata": {},
   "outputs": [],
   "source": [
    "import numpy as np\n",
    "import pandas as pd\n",
    "import seaborn as sns"
   ]
  },
  {
   "cell_type": "markdown",
   "metadata": {},
   "source": [
    "#### Defining Utility Functions for Entropy and GINI calculation"
   ]
  },
  {
   "cell_type": "code",
   "execution_count": 2,
   "metadata": {},
   "outputs": [],
   "source": [
    "def calcEntropy(pop, target):\n",
    "    counts = target.value_counts(normalize = True)\n",
    "    counts *= np.log2(counts)\n",
    "    entropy = -counts.sum()\n",
    "    return entropy"
   ]
  },
  {
   "cell_type": "code",
   "execution_count": 3,
   "metadata": {},
   "outputs": [],
   "source": [
    "def calcGini(pop, target):\n",
    "    counts = target.value_counts(normalize = True)\n",
    "    counts = np.square(counts)\n",
    "    gini = 1 - np.sum(counts)\n",
    "    return gini"
   ]
  },
  {
   "cell_type": "markdown",
   "metadata": {},
   "source": [
    "#### Defining Utility Functions to Generate Subpopulations and Find the Optimal Split"
   ]
  },
  {
   "cell_type": "code",
   "execution_count": 4,
   "metadata": {},
   "outputs": [],
   "source": [
    "def createSubpopulation(pop, target, feature, feature_val):\n",
    "    return (pop[pop[feature] == feature_val], target[pop[feature] == feature_val])"
   ]
  },
  {
   "cell_type": "code",
   "execution_count": 5,
   "metadata": {},
   "outputs": [],
   "source": [
    "def minEntropySplit(pop, target, features):\n",
    "    minfeature = -1\n",
    "    classes = target.value_counts()\n",
    "    minEntropy = np.log2(len(classes)) + 1 #maximum possible entropy + 1\n",
    "    n = len(pop)\n",
    "    for f in features:\n",
    "        # split using this feature and calculate entropy\n",
    "        unique_vals = set(pop.loc[:,f])\n",
    "        totalEntropy = 0\n",
    "        for u in unique_vals:\n",
    "            # split where pop[f] = u\n",
    "            subpop, subtarget = createSubpopulation(pop, target, f, u)\n",
    "            ni = len(subpop)\n",
    "            entropy = calcEntropy(subpop, subtarget)\n",
    "            totalEntropy += (ni/n)*entropy\n",
    "        if(totalEntropy < minEntropy):\n",
    "            minfeature = f\n",
    "            minEntropy = totalEntropy\n",
    "    return (minfeature, minEntropy)\n"
   ]
  },
  {
   "cell_type": "code",
   "execution_count": 6,
   "metadata": {},
   "outputs": [],
   "source": [
    "def minGiniSplit(pop, target, features):\n",
    "    minfeature = -1\n",
    "    classes = target.value_counts()\n",
    "    minGini = 1 #maximum possible gini (for n-> inf)\n",
    "    n = len(pop)\n",
    "    for f in features:\n",
    "        # split using this feature and calculate Gini\n",
    "        unique_vals = set(pop.loc[:, f])\n",
    "        totalGini = 0\n",
    "        for u in unique_vales:\n",
    "            #split where pop[j][f] = u\n",
    "            subpop, subtarget = createSubpopulation(pop, target, f, u)\n",
    "            ni = len(subpop)\n",
    "            gini = calcGini(subpop, subtarget)\n",
    "            totalGini += (ni/n)*gini\n",
    "        if(totalGini < minGini):\n",
    "            minGini = totalGini\n",
    "            minfeature = f\n",
    "    return (minfeature, minGini)"
   ]
  },
  {
   "cell_type": "markdown",
   "metadata": {},
   "source": [
    "#### Defining the data"
   ]
  },
  {
   "cell_type": "code",
   "execution_count": 7,
   "metadata": {},
   "outputs": [],
   "source": [
    "X = pd.DataFrame({\n",
    "    'outlook': ['sunny', 'sunny', 'overcast', 'rain', 'rain', 'rain', 'overcast', 'sunny', 'sunny', 'rain', 'sunny', 'overcast', 'overcast', 'rain'],\n",
    "    'temp':['hot', 'hot', 'hot', 'mild', 'cool', 'cool', 'cool', 'mild', 'cool', 'mild', 'mild', 'mild', 'hot', 'mild'],\n",
    "    'humidity':['high', 'high', 'high', 'high', 'normal', 'normal', 'normal', 'high', 'normal', 'normal', 'normal', 'high', 'normal', 'high'],\n",
    "    'wind':['strong', 'strong', 'weak', 'weak', 'weak', 'strong', 'weak', 'weak', 'weak', 'weak', 'strong', 'strong', 'weak', 'strong']\n",
    "})\n",
    "y = pd.Series([0, 0, 1, 1, 1, 0, 1, 0, 1, 1, 1, 1, 1, 0], name = \"Play tennis\")"
   ]
  },
  {
   "cell_type": "code",
   "execution_count": 8,
   "metadata": {},
   "outputs": [
    {
     "data": {
      "text/html": [
       "<div>\n",
       "<style scoped>\n",
       "    .dataframe tbody tr th:only-of-type {\n",
       "        vertical-align: middle;\n",
       "    }\n",
       "\n",
       "    .dataframe tbody tr th {\n",
       "        vertical-align: top;\n",
       "    }\n",
       "\n",
       "    .dataframe thead th {\n",
       "        text-align: right;\n",
       "    }\n",
       "</style>\n",
       "<table border=\"1\" class=\"dataframe\">\n",
       "  <thead>\n",
       "    <tr style=\"text-align: right;\">\n",
       "      <th></th>\n",
       "      <th>outlook</th>\n",
       "      <th>temp</th>\n",
       "      <th>humidity</th>\n",
       "      <th>wind</th>\n",
       "    </tr>\n",
       "  </thead>\n",
       "  <tbody>\n",
       "    <tr>\n",
       "      <th>0</th>\n",
       "      <td>sunny</td>\n",
       "      <td>hot</td>\n",
       "      <td>high</td>\n",
       "      <td>strong</td>\n",
       "    </tr>\n",
       "    <tr>\n",
       "      <th>1</th>\n",
       "      <td>sunny</td>\n",
       "      <td>hot</td>\n",
       "      <td>high</td>\n",
       "      <td>strong</td>\n",
       "    </tr>\n",
       "    <tr>\n",
       "      <th>2</th>\n",
       "      <td>overcast</td>\n",
       "      <td>hot</td>\n",
       "      <td>high</td>\n",
       "      <td>weak</td>\n",
       "    </tr>\n",
       "    <tr>\n",
       "      <th>3</th>\n",
       "      <td>rain</td>\n",
       "      <td>mild</td>\n",
       "      <td>high</td>\n",
       "      <td>weak</td>\n",
       "    </tr>\n",
       "    <tr>\n",
       "      <th>4</th>\n",
       "      <td>rain</td>\n",
       "      <td>cool</td>\n",
       "      <td>normal</td>\n",
       "      <td>weak</td>\n",
       "    </tr>\n",
       "  </tbody>\n",
       "</table>\n",
       "</div>"
      ],
      "text/plain": [
       "    outlook  temp humidity    wind\n",
       "0     sunny   hot     high  strong\n",
       "1     sunny   hot     high  strong\n",
       "2  overcast   hot     high    weak\n",
       "3      rain  mild     high    weak\n",
       "4      rain  cool   normal    weak"
      ]
     },
     "execution_count": 8,
     "metadata": {},
     "output_type": "execute_result"
    }
   ],
   "source": [
    "X.head()"
   ]
  },
  {
   "cell_type": "code",
   "execution_count": 9,
   "metadata": {},
   "outputs": [
    {
     "data": {
      "text/plain": [
       "0    0\n",
       "1    0\n",
       "2    1\n",
       "3    1\n",
       "4    1\n",
       "Name: Play tennis, dtype: int64"
      ]
     },
     "execution_count": 9,
     "metadata": {},
     "output_type": "execute_result"
    }
   ],
   "source": [
    "y.head()"
   ]
  },
  {
   "cell_type": "markdown",
   "metadata": {},
   "source": [
    "#### Generating the training and testing sets from the data\n",
    "The data is split into features and lables and 30% of the data is used as a testing set and 70% is used as training set"
   ]
  },
  {
   "cell_type": "code",
   "execution_count": 10,
   "metadata": {},
   "outputs": [],
   "source": [
    "from sklearn.model_selection import train_test_split\n",
    "np.random.seed(42)\n",
    "X_train, X_test, y_train, y_test = train_test_split(X, y, test_size = 0.3)"
   ]
  },
  {
   "cell_type": "code",
   "execution_count": 11,
   "metadata": {},
   "outputs": [
    {
     "data": {
      "text/html": [
       "<div>\n",
       "<style scoped>\n",
       "    .dataframe tbody tr th:only-of-type {\n",
       "        vertical-align: middle;\n",
       "    }\n",
       "\n",
       "    .dataframe tbody tr th {\n",
       "        vertical-align: top;\n",
       "    }\n",
       "\n",
       "    .dataframe thead th {\n",
       "        text-align: right;\n",
       "    }\n",
       "</style>\n",
       "<table border=\"1\" class=\"dataframe\">\n",
       "  <thead>\n",
       "    <tr style=\"text-align: right;\">\n",
       "      <th></th>\n",
       "      <th>outlook</th>\n",
       "      <th>temp</th>\n",
       "      <th>humidity</th>\n",
       "      <th>wind</th>\n",
       "    </tr>\n",
       "  </thead>\n",
       "  <tbody>\n",
       "    <tr>\n",
       "      <th>8</th>\n",
       "      <td>sunny</td>\n",
       "      <td>cool</td>\n",
       "      <td>normal</td>\n",
       "      <td>weak</td>\n",
       "    </tr>\n",
       "    <tr>\n",
       "      <th>2</th>\n",
       "      <td>overcast</td>\n",
       "      <td>hot</td>\n",
       "      <td>high</td>\n",
       "      <td>weak</td>\n",
       "    </tr>\n",
       "    <tr>\n",
       "      <th>1</th>\n",
       "      <td>sunny</td>\n",
       "      <td>hot</td>\n",
       "      <td>high</td>\n",
       "      <td>strong</td>\n",
       "    </tr>\n",
       "    <tr>\n",
       "      <th>13</th>\n",
       "      <td>rain</td>\n",
       "      <td>mild</td>\n",
       "      <td>high</td>\n",
       "      <td>strong</td>\n",
       "    </tr>\n",
       "    <tr>\n",
       "      <th>4</th>\n",
       "      <td>rain</td>\n",
       "      <td>cool</td>\n",
       "      <td>normal</td>\n",
       "      <td>weak</td>\n",
       "    </tr>\n",
       "  </tbody>\n",
       "</table>\n",
       "</div>"
      ],
      "text/plain": [
       "     outlook  temp humidity    wind\n",
       "8      sunny  cool   normal    weak\n",
       "2   overcast   hot     high    weak\n",
       "1      sunny   hot     high  strong\n",
       "13      rain  mild     high  strong\n",
       "4       rain  cool   normal    weak"
      ]
     },
     "execution_count": 11,
     "metadata": {},
     "output_type": "execute_result"
    }
   ],
   "source": [
    "X_train.head()"
   ]
  },
  {
   "cell_type": "code",
   "execution_count": 12,
   "metadata": {},
   "outputs": [
    {
     "data": {
      "text/html": [
       "<div>\n",
       "<style scoped>\n",
       "    .dataframe tbody tr th:only-of-type {\n",
       "        vertical-align: middle;\n",
       "    }\n",
       "\n",
       "    .dataframe tbody tr th {\n",
       "        vertical-align: top;\n",
       "    }\n",
       "\n",
       "    .dataframe thead th {\n",
       "        text-align: right;\n",
       "    }\n",
       "</style>\n",
       "<table border=\"1\" class=\"dataframe\">\n",
       "  <thead>\n",
       "    <tr style=\"text-align: right;\">\n",
       "      <th></th>\n",
       "      <th>outlook</th>\n",
       "      <th>temp</th>\n",
       "      <th>humidity</th>\n",
       "      <th>wind</th>\n",
       "    </tr>\n",
       "  </thead>\n",
       "  <tbody>\n",
       "    <tr>\n",
       "      <th>9</th>\n",
       "      <td>rain</td>\n",
       "      <td>mild</td>\n",
       "      <td>normal</td>\n",
       "      <td>weak</td>\n",
       "    </tr>\n",
       "    <tr>\n",
       "      <th>11</th>\n",
       "      <td>overcast</td>\n",
       "      <td>mild</td>\n",
       "      <td>high</td>\n",
       "      <td>strong</td>\n",
       "    </tr>\n",
       "    <tr>\n",
       "      <th>0</th>\n",
       "      <td>sunny</td>\n",
       "      <td>hot</td>\n",
       "      <td>high</td>\n",
       "      <td>strong</td>\n",
       "    </tr>\n",
       "    <tr>\n",
       "      <th>12</th>\n",
       "      <td>overcast</td>\n",
       "      <td>hot</td>\n",
       "      <td>normal</td>\n",
       "      <td>weak</td>\n",
       "    </tr>\n",
       "    <tr>\n",
       "      <th>5</th>\n",
       "      <td>rain</td>\n",
       "      <td>cool</td>\n",
       "      <td>normal</td>\n",
       "      <td>strong</td>\n",
       "    </tr>\n",
       "  </tbody>\n",
       "</table>\n",
       "</div>"
      ],
      "text/plain": [
       "     outlook  temp humidity    wind\n",
       "9       rain  mild   normal    weak\n",
       "11  overcast  mild     high  strong\n",
       "0      sunny   hot     high  strong\n",
       "12  overcast   hot   normal    weak\n",
       "5       rain  cool   normal  strong"
      ]
     },
     "execution_count": 12,
     "metadata": {},
     "output_type": "execute_result"
    }
   ],
   "source": [
    "X_test.head()"
   ]
  },
  {
   "cell_type": "code",
   "execution_count": 13,
   "metadata": {},
   "outputs": [
    {
     "data": {
      "text/plain": [
       "8     1\n",
       "2     1\n",
       "1     0\n",
       "13    0\n",
       "4     1\n",
       "Name: Play tennis, dtype: int64"
      ]
     },
     "execution_count": 13,
     "metadata": {},
     "output_type": "execute_result"
    }
   ],
   "source": [
    "y_train.head()"
   ]
  },
  {
   "cell_type": "code",
   "execution_count": 14,
   "metadata": {},
   "outputs": [
    {
     "data": {
      "text/plain": [
       "9     1\n",
       "11    1\n",
       "0     0\n",
       "12    1\n",
       "5     0\n",
       "Name: Play tennis, dtype: int64"
      ]
     },
     "execution_count": 14,
     "metadata": {},
     "output_type": "execute_result"
    }
   ],
   "source": [
    "y_test.head()"
   ]
  },
  {
   "cell_type": "code",
   "execution_count": 15,
   "metadata": {},
   "outputs": [
    {
     "data": {
      "text/plain": [
       "(0.9182958340544896, 0.4444444444444444)"
      ]
     },
     "execution_count": 15,
     "metadata": {},
     "output_type": "execute_result"
    }
   ],
   "source": [
    "## Information Gain and gini index value of train dataset\n",
    "calcEntropy(X_train, y_train), calcGini(X_train, y_train)"
   ]
  },
  {
   "cell_type": "code",
   "execution_count": 16,
   "metadata": {},
   "outputs": [
    {
     "data": {
      "text/plain": [
       "(0.9709505944546686, 0.48)"
      ]
     },
     "execution_count": 16,
     "metadata": {},
     "output_type": "execute_result"
    }
   ],
   "source": [
    "### Information Gain and gini index value of test dataset\n",
    "calcEntropy(X_test, y_test), calcGini(X_test, y_test)"
   ]
  },
  {
   "cell_type": "markdown",
   "metadata": {},
   "source": [
    "## Implementation of Decision Tree Class without Pruning"
   ]
  },
  {
   "cell_type": "code",
   "execution_count": 17,
   "metadata": {},
   "outputs": [],
   "source": [
    "class DecisionTree:\n",
    "\n",
    "        def __init__(self, pop, target, criteria = 'entropy'):\n",
    "            self.pop = pop\n",
    "            self.target = target\n",
    "            self.criteria = criteria\n",
    "            self.children = {}\n",
    "            self.sel_feature = None\n",
    "            self.decision = None\n",
    "            self.isLeaf = False\n",
    "            if(criteria == 'entropy'): \n",
    "                self.dec_param = calcEntropy(self.pop, self.target)\n",
    "            elif(criteria == 'gini'): \n",
    "                self.dec_param = calcGini(self.pop, self.target)\n",
    "\n",
    "        def fit(self, features):\n",
    "\n",
    "        # if the decision parameter of self is 0, make a decision, rather than learning\n",
    "            if(self.dec_param == 0):\n",
    "                # already a pure population, take the most popular decision\n",
    "                self.isLeaf = True\n",
    "                self.decision = self.target.value_counts().index[0]\n",
    "                return\n",
    "\n",
    "         # find the optimal split\n",
    "            if(self.criteria == 'entropy'):\n",
    "                f, dec_param = minEntropySplit(self.pop, self.target, features)\n",
    "            elif(self.criteria == 'gini'):\n",
    "                f, dec_param = minGiniSplit(self, pop, self.target, features)\n",
    "\n",
    "         # remove the selected feature from the list of remaining features\n",
    "            features.remove(f)\n",
    "            self.sel_feature = f\n",
    "\n",
    "            unique_vals = set(self.pop.loc[:, f])\n",
    "            for u in unique_vals:\n",
    "                #for each possible value of the feature\n",
    "                #create a child node\n",
    "                subpop, subtarget = createSubpopulation(self.pop, self.target, self.sel_feature, u)\n",
    "                self.children[u] = DecisionTree(subpop, subtarget, self.criteria)\n",
    "                #train that child\n",
    "                self.children[u].fit(features)\n",
    "\n",
    "        def predict_row(self, row):\n",
    "            if(self.isLeaf):\n",
    "                return self.decision\n",
    "            else:\n",
    "                return self.children[row.loc[self.sel_feature]].predict_row(row)\n",
    "\n",
    "        def predict(self, test_pop):\n",
    "            preds = []\n",
    "            for i in range(len(test_pop)):\n",
    "                preds.append(self.predict_row(test_pop.iloc[i,:]))\n",
    "            return pd.Series(data = preds, name=\"preds\", index = test_pop.index)\n",
    "\n",
    "        \n",
    "        def visualize(self, level=0):\n",
    "            if(level == 0): print(\"root \", end = \"\")\n",
    "            print(\"-> \", end = \"\")\n",
    "            if(self.isLeaf):\n",
    "                print(\"~\"+str(self.decision)+\"~\", end = \"\")\n",
    "                print(\"\")\n",
    "                return\n",
    "            print(self.sel_feature)\n",
    "            for i in self.children.keys():\n",
    "                print(\"\\t\"*(2*level+1), \"==\", i, end = \" \")\n",
    "                self.children[i].visualize(level+1)\n",
    "            print(\"\")\n",
    "\n",
    "            "
   ]
  },
  {
   "cell_type": "code",
   "execution_count": 18,
   "metadata": {},
   "outputs": [],
   "source": [
    "dt = DecisionTree(X_train, y_train)\n",
    "dt.fit(list(X_train.columns))"
   ]
  },
  {
   "cell_type": "code",
   "execution_count": 19,
   "metadata": {},
   "outputs": [
    {
     "name": "stdout",
     "output_type": "stream",
     "text": [
      "root -> humidity\n",
      "\t == high -> outlook\n",
      "\t\t\t == sunny -> ~0~\n",
      "\t\t\t == rain -> wind\n",
      "\t\t\t\t\t == strong -> ~0~\n",
      "\t\t\t\t\t == weak -> ~1~\n",
      "\n",
      "\t\t\t == overcast -> ~1~\n",
      "\n",
      "\t == normal -> ~1~\n",
      "\n"
     ]
    }
   ],
   "source": [
    "dt.visualize()"
   ]
  },
  {
   "cell_type": "code",
   "execution_count": 20,
   "metadata": {},
   "outputs": [
    {
     "data": {
      "text/plain": [
       "9     1\n",
       "11    1\n",
       "0     0\n",
       "12    1\n",
       "5     1\n",
       "Name: preds, dtype: int64"
      ]
     },
     "execution_count": 20,
     "metadata": {},
     "output_type": "execute_result"
    }
   ],
   "source": [
    "dt.predict(X_test)"
   ]
  },
  {
   "cell_type": "code",
   "execution_count": 21,
   "metadata": {},
   "outputs": [
    {
     "data": {
      "text/plain": [
       "9     1\n",
       "11    1\n",
       "0     0\n",
       "12    1\n",
       "5     0\n",
       "Name: Play tennis, dtype: int64"
      ]
     },
     "execution_count": 21,
     "metadata": {},
     "output_type": "execute_result"
    }
   ],
   "source": [
    "y_test"
   ]
  },
  {
   "cell_type": "markdown",
   "metadata": {},
   "source": [
    "As we clearly see index no. 5 give wrong prediction output."
   ]
  },
  {
   "cell_type": "code",
   "execution_count": null,
   "metadata": {},
   "outputs": [],
   "source": []
  }
 ],
 "metadata": {
  "interpreter": {
   "hash": "5d674788ffd50e474b66016b0dbbe716941298d24dae972d04a31d98e226ce1c"
  },
  "kernelspec": {
   "display_name": "Python 3",
   "language": "python",
   "name": "python3"
  },
  "language_info": {
   "codemirror_mode": {
    "name": "ipython",
    "version": 3
   },
   "file_extension": ".py",
   "mimetype": "text/x-python",
   "name": "python",
   "nbconvert_exporter": "python",
   "pygments_lexer": "ipython3",
   "version": "3.8.3"
  }
 },
 "nbformat": 4,
 "nbformat_minor": 2
}
